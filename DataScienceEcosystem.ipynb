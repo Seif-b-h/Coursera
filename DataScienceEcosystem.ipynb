{
 "cells": [
  {
   "cell_type": "markdown",
   "id": "2a9b598b-3f7a-4eea-b3eb-c8b69d23503c",
   "metadata": {},
   "source": [
    "# Data Science Tools and Ecosystem"
   ]
  },
  {
   "cell_type": "markdown",
   "id": "754ff941-169b-4cdc-8d2e-8d1e47ac70ba",
   "metadata": {},
   "source": [
    "In this notebook, Data Science Tools and Ecosystem are summarized."
   ]
  },
  {
   "cell_type": "markdown",
   "id": "2567c4e7-b13f-4cb6-b4dd-13f96bb79954",
   "metadata": {},
   "source": [
    "Objectives:\n",
    "* List of popular languages for Data Scientists\n",
    "* List of communly used libraries as Data Scientist\n",
    "* Table of communly used development environment open source tools in data science\n",
    "* Few basic arithmetic expressions"
   ]
  },
  {
   "cell_type": "markdown",
   "id": "d214ac2c-5f9e-42b9-9c80-52eb41adfca8",
   "metadata": {},
   "source": [
    "Some of the popular languages that Data Scientists use are:\n",
    "1. Python\n",
    "2. R\n",
    "3. SQL"
   ]
  },
  {
   "cell_type": "markdown",
   "id": "59eea29c-c396-46ab-98bf-22c1efddb20f",
   "metadata": {},
   "source": [
    "Some of the communly used libraries used by Data Scientists include:\n",
    "1. Pandas\n",
    "2. Numpy\n",
    "3. Matplotlib"
   ]
  },
  {
   "cell_type": "markdown",
   "id": "09dac1de-f24e-47ce-96a3-8e5929523660",
   "metadata": {},
   "source": [
    "|Data Science Tools|\n",
    "|-|\n",
    "|Jupyter Notebook|\n",
    "|Aspache Spark|\n",
    "|Tensor Flow|"
   ]
  },
  {
   "cell_type": "markdown",
   "id": "bb4e8e4a-ae71-499f-8916-ce6a163d94b3",
   "metadata": {},
   "source": [
    "### Below are a few examples of evaluating arithmetic expressions in Python"
   ]
  },
  {
   "cell_type": "code",
   "execution_count": 4,
   "id": "ac375657-65ef-44fa-b2ee-bd76ee44b0a8",
   "metadata": {},
   "outputs": [
    {
     "name": "stdout",
     "output_type": "stream",
     "text": [
      "This is a simple arithmetic expression to multiply then add integers : (3 * 4) + 5 = 17\n"
     ]
    }
   ],
   "source": [
    "x = (3*4)+5\n",
    "print('This is a simple arithmetic expression to multiply then add integers : (3 * 4) + 5 =', x)"
   ]
  },
  {
   "cell_type": "code",
   "execution_count": 2,
   "id": "0a3256b7-aa83-47f5-9ae5-c69faf89c86e",
   "metadata": {},
   "outputs": [
    {
     "name": "stdout",
     "output_type": "stream",
     "text": [
      "This will convert 200 minutes to hours by diving by 60 :  3.3333333333333335  hours\n"
     ]
    }
   ],
   "source": [
    "y = 200/60\n",
    "print('This will convert 200 minutes to hours by diving by 60 : ', y, ' hours')"
   ]
  },
  {
   "cell_type": "markdown",
   "id": "053e66c6-3e79-4054-b846-f9a7ae67cb34",
   "metadata": {},
   "source": [
    "## Author\n",
    "Seif Ben Hamida"
   ]
  }
 ],
 "metadata": {
  "kernelspec": {
   "display_name": "Python 3 (ipykernel)",
   "language": "python",
   "name": "python3"
  },
  "language_info": {
   "codemirror_mode": {
    "name": "ipython",
    "version": 3
   },
   "file_extension": ".py",
   "mimetype": "text/x-python",
   "name": "python",
   "nbconvert_exporter": "python",
   "pygments_lexer": "ipython3",
   "version": "3.11.7"
  }
 },
 "nbformat": 4,
 "nbformat_minor": 5
}
